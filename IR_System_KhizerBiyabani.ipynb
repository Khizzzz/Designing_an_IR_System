{
 "cells": [
  {
   "cell_type": "markdown",
   "id": "a02e1fef",
   "metadata": {},
   "source": [
    "# Design and Implementation of an Information Retrieval System \n",
    "\n",
    "## By: Khizer Ahmed Biyabani \n",
    "#### School of Computing, Dublin City University\n",
    "\n",
    "### Assignemnt 1 Under the Module CA6005I - Mechanics of Search "
   ]
  },
  {
   "cell_type": "markdown",
   "id": "8c9e08b5",
   "metadata": {},
   "source": [
    "## 1. Importing the necessary Libraries"
   ]
  },
  {
   "cell_type": "code",
   "execution_count": null,
   "id": "20e9c766",
   "metadata": {
    "scrolled": true
   },
   "outputs": [],
   "source": [
    "# Text extraction or data collection libraries\n",
    "\n",
    "from os import listdir, path \n",
    "import xml.etree.ElementTree as ET\n",
    "\n",
    "#Librarries for text pre-processing\n",
    "\n",
    "import re\n",
    "import string\n",
    "import nltk\n",
    "from nltk.corpus import stopwords\n",
    "#nltk.download('stopwords')\n",
    "from nltk.stem import PorterStemmer, SnowballStemmer\n",
    "from nltk.stem import WordNetLemmatizer\n",
    "#nltk.download('wordnet')\n",
    "#nltk.download()\n",
    "from nltk.corpus import wordnet\n",
    "from itertools import chain\n",
    "\n",
    "\n",
    "import math\n",
    "import numpy as np\n",
    "#from tqdm import tqdm\n",
    "import itertools\n",
    "from contextlib import redirect_stdout\n",
    "\n"
   ]
  },
  {
   "cell_type": "markdown",
   "id": "df86d144",
   "metadata": {},
   "source": [
    "## 2. Loading our dataset"
   ]
  },
  {
   "cell_type": "code",
   "execution_count": null,
   "id": "8a84a0a7",
   "metadata": {
    "scrolled": true
   },
   "outputs": [],
   "source": [
    "#Loading the text files from the given collection\n",
    "mypath = 'D:/Mechanics of Search/CA6005_2022Assignement/CA6005_2022/COLLECTION/'\n",
    "files = [path.join(mypath, f) for f in listdir(mypath) if f.endswith('.xml')]\n",
    "\n",
    "querry_path = 'D:/Mechanics of Search/CA6005_2022Assignement/CA6005_2022/topics'\n",
    "querry_files = [path.join(querry_path, f) for f in listdir(querry_path) if f.endswith('.xml')]"
   ]
  },
  {
   "cell_type": "markdown",
   "id": "6516a3d6",
   "metadata": {},
   "source": [
    "## 3. Data Structure for our dataset"
   ]
  },
  {
   "cell_type": "markdown",
   "id": "75d4920c",
   "metadata": {},
   "source": [
    "### Creating a dictionary to store the text of the doccuments"
   ]
  },
  {
   "cell_type": "code",
   "execution_count": null,
   "id": "75b7c92b",
   "metadata": {
    "scrolled": true
   },
   "outputs": [],
   "source": [
    "#Creating E-tree for each of the text or collection xml files.\n",
    "\n",
    "tree=[]\n",
    "root=[]\n",
    "for file in files:\n",
    "    tree.append(ET.parse(file))\n",
    "\n",
    "# root.append(tree.getroot())\n",
    "\n",
    "for i in tree:\n",
    "    root.append(i.getroot())\n",
    "\n"
   ]
  },
  {
   "cell_type": "code",
   "execution_count": null,
   "id": "5c27482b",
   "metadata": {
    "scrolled": true
   },
   "outputs": [],
   "source": [
    "#Creating E-tree for each of the topics or query xml files.\n",
    "querry_tree=[]\n",
    "querry_roots=[]\n",
    "\n",
    "for file in querry_files:\n",
    "    querry_tree.append(ET.parse(file))\n",
    "    \n",
    "for i in querry_tree:\n",
    "    querry_roots.append(i.getroot())\n"
   ]
  },
  {
   "cell_type": "code",
   "execution_count": null,
   "id": "5187b632",
   "metadata": {
    "scrolled": true
   },
   "outputs": [],
   "source": [
    "# Creating a dictionary for the data \n",
    "texts=[]\n",
    "docids=[]\n",
    "headlines=[]\n",
    "for i in range(0, len(root)):\n",
    "    for text in root[i].findall('TEXT'):\n",
    "        texts.append(text.text) \n",
    "    for docid in root[i].findall('DOCID'):\n",
    "        docids.append(docid.text)          \n",
    "    for head in root[i].findall('HEADLINE'):\n",
    "        headlines.append(head.text)\n",
    "    i=i+1\n",
    "    \n",
    "print(len(texts),len(docids),len(headlines))"
   ]
  },
  {
   "cell_type": "code",
   "execution_count": null,
   "id": "1d81c957",
   "metadata": {
    "scrolled": true
   },
   "outputs": [],
   "source": [
    "# Creating a dictionary for the queries \n",
    "\n",
    "querry_id=[]\n",
    "querry_title=[]\n",
    "querry_desc=[]\n",
    "querry_narr=[]\n",
    "\n",
    "for i in range(0, len(querry_roots)):\n",
    "    for qid in querry_roots[i].findall('QUERYID'):\n",
    "        querry_id.append(qid.text) \n",
    "    for title in querry_roots[i].findall('TITLE'):\n",
    "        querry_title.append(title.text)          \n",
    "    for desc in querry_roots[i].findall('DESC'):\n",
    "        querry_desc.append(desc.text)\n",
    "    for narr in querry_roots[i].findall('NARR'):\n",
    "        querry_narr.append(narr.text)\n",
    "    i=i+1"
   ]
  },
  {
   "cell_type": "code",
   "execution_count": null,
   "id": "b2457950",
   "metadata": {
    "scrolled": true
   },
   "outputs": [],
   "source": [
    "data2 = {'id':docids,'headline':headlines,'text':texts}\n",
    "\n",
    "data2['id'][2]"
   ]
  },
  {
   "cell_type": "code",
   "execution_count": null,
   "id": "747d0a42",
   "metadata": {
    "scrolled": false
   },
   "outputs": [],
   "source": [
    "# Creating a backup dictionary \n",
    "\n",
    "data1={key: value for key, *value in zip(docids, headlines, texts)}\n",
    "data1['LA010194-0009'][:5]"
   ]
  },
  {
   "cell_type": "code",
   "execution_count": null,
   "id": "ef2c7b2c",
   "metadata": {
    "scrolled": true
   },
   "outputs": [],
   "source": [
    "# Creating a backup dictionary \n",
    "\n",
    "q_data = {'q_id':querry_id,'q_title':querry_title,'q_desc':querry_desc,'q_narr':querry_narr}\n",
    "q_data['q_id'][1]"
   ]
  },
  {
   "cell_type": "code",
   "execution_count": null,
   "id": "05515d42",
   "metadata": {
    "scrolled": false
   },
   "outputs": [],
   "source": [
    "q_data1={key: value for key, *value in zip(querry_id,querry_title,querry_desc,querry_narr)}\n",
    "q_data1['10.2452/142-AH']"
   ]
  },
  {
   "cell_type": "code",
   "execution_count": null,
   "id": "d1bba74f",
   "metadata": {
    "scrolled": true
   },
   "outputs": [],
   "source": [
    "# A glimpse of our 3rd Collection\n",
    "\n",
    "data2['text'][2]"
   ]
  },
  {
   "cell_type": "markdown",
   "id": "f1b1fcc8",
   "metadata": {},
   "source": [
    "## 4. Text Preprocessing\n",
    "\n",
    "### There are several steps involved in text pre-processing such as:"
   ]
  },
  {
   "cell_type": "markdown",
   "id": "31e7ef81",
   "metadata": {},
   "source": [
    "### (i) Cleaning None-Type"
   ]
  },
  {
   "cell_type": "code",
   "execution_count": null,
   "id": "a5f369e6",
   "metadata": {
    "scrolled": true
   },
   "outputs": [],
   "source": [
    "#Function for None_type removal\n",
    "\n",
    "def none_type_remove(stri):\n",
    "    if stri == None:\n",
    "        return \"\"\n",
    "    else:\n",
    "        return stri\n",
    "\n",
    "for i in range(0,len(data2['text'])):\n",
    "    data2['text'][i]= none_type_remove(data2['text'][i])\n",
    "    data2['headline'][i]= none_type_remove(data2['headline'][i])"
   ]
  },
  {
   "cell_type": "markdown",
   "id": "b75331f0",
   "metadata": {},
   "source": [
    "### (ii) Changing the case of the text to Lower."
   ]
  },
  {
   "cell_type": "code",
   "execution_count": null,
   "id": "c68e29b6",
   "metadata": {
    "scrolled": true
   },
   "outputs": [],
   "source": [
    "#Changing the case of the text to lower using string.lower()\n",
    "\n",
    "for i in range(0,len(data2['text'])):\n",
    "    data2['text'][i]= data2['text'][i].lower()\n",
    "    data2['headline'][i]= data2['headline'][i].lower()\n",
    "\n",
    "#print(data2['headline'][1])\n",
    "data2['text'][:10]  #Lower case text"
   ]
  },
  {
   "cell_type": "markdown",
   "id": "b2d16ff0",
   "metadata": {},
   "source": [
    "### (iii) Expanding the english contractions"
   ]
  },
  {
   "cell_type": "code",
   "execution_count": null,
   "id": "709278ee",
   "metadata": {
    "scrolled": false
   },
   "outputs": [],
   "source": [
    "#Defining a dictionary for all the known english contractions\n",
    "\n",
    "contraction_List = {\n",
    "  \"ain ' t\": \"are not\",\" ' s\":\" is\",\"aren ' t\": \"are not\",\"can ' t\": \"can not\",\"can ' t ' ve\": \"cannot have\",\n",
    "\" ' cause\": \"because\",\"could ' ve\": \"could have\",\"couldn ' t\": \"could not\",\"couldn ' t ' ve\": \"could not have\",\n",
    "\"didn ' t\": \"did not\",\"doesn ' t\": \"does not\",\"don ' t\": \"do not\",\"hadn ' t\": \"had not\",\"hadn ' t ' ve\": \"had not have\",\n",
    "\"hasn ' t\": \"has not\",\"haven ' t\": \"have not\",\"he ' d\": \"he would\",\"he ' d ' ve\": \"he would have\",\"he ' ll\": \"he will\",\n",
    "\"he ' ll ' ve\": \"he will have\",\"how ' d\": \"how did\",\"how ' d ' y\": \"how do you\",\"how ' ll\": \"how will\",\"i ' d\": \"i would\",\n",
    "\"i ' d ' ve\": \"i would have\",\"i ' ll\": \"i will\",\"i ' ll ' ve\": \"i will have\",\"i ' m\": \"i am\",\"i ' ve\": \"i have\",\n",
    "\"isn ' t\": \"is not\",\"it ' d\": \"it would\",\"it ' d ' ve\": \"it would have\",\"it ' ll\": \"it will\",\"it ' ll ' ve\": \"it will have\",\n",
    "\"let ' s\": \"let us\",\"ma ' am\": \"madam\",\"mayn ' t\": \"may not\",\"might ' ve\": \"might have\",\"mightn ' t\": \"might not\",\n",
    "\"mightn ' t ' ve\": \"might not have\",\"must ' ve\": \"must have\",\"mustn ' t\": \"must not\",\"mustn ' t ' ve\": \"must not have\",\n",
    "\"needn ' t\": \"need not\",\"needn ' t ' ve\": \"need not have\",\"o ' clock\": \"of the clock\",\"oughtn ' t\": \"ought not\",\n",
    "\"oughtn ' t ' ve\": \"ought not have\",\"shan ' t\": \"shall not\",\"sha ' n ' t\": \"shall not\",\n",
    "\"shan ' t ' ve\": \"shall not have\",\"she ' d\": \"she would\",\"she ' d ' ve\": \"she would have\",\"she ' ll\": \"she will\",\n",
    "\"she ' ll ' ve\": \"she will have\",\"should ' ve\": \"should have\",\"shouldn ' t\": \"should not\",\n",
    "\"shouldn ' t ' ve\": \"should not have\",\"so ' ve\": \"so have\",\"that ' d\": \"that would\",\"that ' d ' ve\": \"that would have\",\n",
    "\"there ' d\": \"there would\",\"there ' d ' ve\": \"there would have\",\n",
    "\"they ' d\": \"they would\",\"they ' d ' ve\": \"they would have\",\"they ' ll\": \"they will\",\"they ' ll ' ve\": \"they will have\",\n",
    "\"they ' re\": \"they are\",\"they ' ve\": \"they have\",\"to ' ve\": \"to have\",\"wasn ' t\": \"was not\",\"we ' d\": \"we would\",\n",
    "\"we ' d ' ve\": \"we would have\",\"we ' ll\": \"we will\",\"we ' ll ' ve\": \"we will have\",\"we ' re\": \"we are\",\"we ' ve\": \"we have\",\n",
    "\"weren ' t\": \"were not\",\"what ' ll\": \"what will\",\"what ' ll ' ve\": \"what will have\",\"what ' re\": \"what are\",\n",
    "\"what ' ve\": \"what have\",\"when ' ve\": \"when have\",\"where ' d\": \"where did\",\n",
    "\"where ' ve\": \"where have\",\"who ' ll\": \"who will\",\"who ' ll ' ve\": \"who will have\",\"who ' ve\": \"who have\",\n",
    "\"why ' ve\": \"why have\",\"will ' ve\": \"will have\",\"won ' t\": \"will not\",\"won ' t ' ve\": \"will not have\",\n",
    "\"would ' ve\": \"would have\",\"wouldn ' t\": \"would not\",\"wouldn ' t ' ve\": \"would not have\",\"y ' all\": \"you all\",\n",
    "\"y ' all ' d\": \"you all would\",\"y ' all ' d ' ve\": \"you all would have\",\"y ' all ' re\": \"you all are\",\"y ' all ' ve\": \"you all have\",\n",
    "\"you ' d\": \"you would\",\"you ' d ' ve\": \"you would have\",\"you ' ll\": \"you will\",\"you ' ll ' ve\": \"you will have\",\n",
    "\"you ' re\": \"you are\",\"you ' ve\": \"you have\"\n",
    "}\n",
    "\n",
    "contraction_List_re = re.compile('(%s)' % '|'.join(contraction_List.keys()))\n",
    "\n",
    "contraction_List_re"
   ]
  },
  {
   "cell_type": "code",
   "execution_count": null,
   "id": "cdab4ff7",
   "metadata": {
    "scrolled": true
   },
   "outputs": [],
   "source": [
    "def expandContractions(text, c_re=contraction_List_re):\n",
    "    def replace(match):\n",
    "        return contraction_List[match.group(0)]\n",
    "    return c_re.sub(replace, text)"
   ]
  },
  {
   "cell_type": "code",
   "execution_count": null,
   "id": "17366701",
   "metadata": {
    "scrolled": true
   },
   "outputs": [],
   "source": [
    "#Tried to use different regular expressions to match the contractions in the  text.\n",
    "\n",
    "\n",
    "# regex = r'\\b[\\':]\\b'\n",
    "# s = \"you ' d\"\n",
    "# print(re.sub(regex, ' \\g<0> ', s))"
   ]
  },
  {
   "cell_type": "code",
   "execution_count": null,
   "id": "b1ae98a6",
   "metadata": {
    "scrolled": true
   },
   "outputs": [],
   "source": [
    "# def getList(dict):\n",
    "#     list = []\n",
    "#     for key in dict.keys():\n",
    "#         list.append(key)\n",
    "          \n",
    "#     return list\n",
    "\n",
    "# contraction_List_keys=getList(contraction_List)"
   ]
  },
  {
   "cell_type": "code",
   "execution_count": null,
   "id": "2ed6feeb",
   "metadata": {
    "scrolled": true
   },
   "outputs": [],
   "source": [
    "# contraction_List_keys_withoutspace=[]\n",
    "# def contractions_withoutspace(x):\n",
    "#     regex = r'\\b[\\':]\\b'\n",
    "#     return re.sub(regex,' \\g<0> ',x)\n",
    "\n",
    "# for i in contraction_List_keys:\n",
    "#     contraction_List_keys_withoutspace.append(contractions_withoutspace(i))\n",
    "    "
   ]
  },
  {
   "cell_type": "code",
   "execution_count": null,
   "id": "287e678d",
   "metadata": {
    "scrolled": true
   },
   "outputs": [],
   "source": [
    "#Expanding the english contractions of our given text corpus. \n",
    "for i in range(0,len(data2['text'])):\n",
    "    data2['text'][i]=expandContractions(data2['text'][i])\n",
    "    data2['headline'][i]=expandContractions(data2['headline'][i])"
   ]
  },
  {
   "cell_type": "code",
   "execution_count": null,
   "id": "97f53fb8",
   "metadata": {
    "scrolled": true
   },
   "outputs": [],
   "source": [
    "#Checking for the third doccument. \n",
    "print(data2['headline'][0])\n",
    "data2['text'][:10]"
   ]
  },
  {
   "cell_type": "markdown",
   "id": "5289b91d",
   "metadata": {},
   "source": [
    "### (iv) Removing Punctuation "
   ]
  },
  {
   "cell_type": "code",
   "execution_count": null,
   "id": "0c983269",
   "metadata": {
    "scrolled": true
   },
   "outputs": [],
   "source": [
    "#The punctuations in English\n",
    "\n",
    "string.punctuation"
   ]
  },
  {
   "cell_type": "code",
   "execution_count": null,
   "id": "cd275da0",
   "metadata": {
    "scrolled": true
   },
   "outputs": [],
   "source": [
    "def remove_punct(text):\n",
    "    punctuationfree=\"\".join([i for i in text if i not in string.punctuation])\n",
    "    return punctuationfree\n",
    "\n",
    "# data['text']= data['text'][x].apply(lambda x:remove_punct(x))\n",
    "\n",
    "for i in range(0,len(data2['text'])):\n",
    "    data2['text'][i]= remove_punct(data2['text'][i])\n",
    "    data2['headline'][i]= remove_punct(data2['headline'][i])\n",
    "\n",
    "print(data2['headline'][2])\n",
    "data2['text'][0]"
   ]
  },
  {
   "cell_type": "code",
   "execution_count": null,
   "id": "8c5740c0",
   "metadata": {
    "scrolled": true
   },
   "outputs": [],
   "source": [
    "data2['text'][:10]"
   ]
  },
  {
   "cell_type": "code",
   "execution_count": null,
   "id": "dcae9850",
   "metadata": {
    "scrolled": true
   },
   "outputs": [],
   "source": [
    "# porter_stemmer = PorterStemmer()\n",
    "# snowball_stemmer = SnowballStemmer(language = 'english')"
   ]
  },
  {
   "cell_type": "code",
   "execution_count": null,
   "id": "1ea4cb9d",
   "metadata": {
    "scrolled": true
   },
   "outputs": [],
   "source": [
    "# def stemming(text):\n",
    "#     stem_text = [snowball_stemmer.stem(word) for word in text]\n",
    "#     return stem_text\n",
    "\n",
    "# for i in range(0, len(data2)):\n",
    "#     data2['text'][i]= stemming(data2['text'][i])\n",
    "#     data2['headline'][i]= stemming(data2['headline'][i])\n",
    "\n",
    "# data2['text'][2]"
   ]
  },
  {
   "cell_type": "markdown",
   "id": "a895bdc9",
   "metadata": {},
   "source": [
    "### (v) Lemmatisation, Tokenisation of Text"
   ]
  },
  {
   "cell_type": "code",
   "execution_count": null,
   "id": "fbfc1597",
   "metadata": {
    "scrolled": true
   },
   "outputs": [],
   "source": [
    "#Creating the object for the Lemmatizer\n",
    "wordnet_lemmatizer = WordNetLemmatizer()"
   ]
  },
  {
   "cell_type": "code",
   "execution_count": null,
   "id": "b8c0964f",
   "metadata": {
    "scrolled": true
   },
   "outputs": [],
   "source": [
    "#Defining a function for wordnet pos tagging and lemmatizing accordingly.\n",
    "\n",
    "def get_wordnet_pos(word):\n",
    "    \"\"\"Map POS tag to first character lemmatize() accepts\"\"\"\n",
    "    tag = nltk.pos_tag([word])[0][1][0].upper()\n",
    "    tag_dict = {\"J\": wordnet.ADJ,\n",
    "                \"N\": wordnet.NOUN,\n",
    "                \"V\": wordnet.VERB,\n",
    "                \"R\": wordnet.ADV}\n",
    "\n",
    "    return tag_dict.get(tag, wordnet.NOUN)"
   ]
  },
  {
   "cell_type": "code",
   "execution_count": null,
   "id": "551a593c",
   "metadata": {
    "scrolled": true
   },
   "outputs": [],
   "source": [
    "#Lemmatizing the text. This would take about 3-4hrs to run.\n",
    "\n",
    "def lemmatizer(text):\n",
    "    return [wordnet_lemmatizer.lemmatize(w, get_wordnet_pos(w)) for w in nltk.word_tokenize(text)]\n"
   ]
  },
  {
   "cell_type": "code",
   "execution_count": null,
   "id": "ea15dedd",
   "metadata": {},
   "outputs": [],
   "source": [
    "for i in range(0,len(data2['text'])):\n",
    "    data2['text'][i]=lemmatizer(data2['text'][i])"
   ]
  },
  {
   "cell_type": "code",
   "execution_count": null,
   "id": "3ab66834",
   "metadata": {},
   "outputs": [],
   "source": [
    "#Similarly Lemmatizing the headlines\n",
    "for i in range(0,len(data2['headline'])):\n",
    "    data2['headline'][i]=lemmatizer(data2['headline'][i])"
   ]
  },
  {
   "cell_type": "markdown",
   "id": "aba41c1e",
   "metadata": {},
   "source": [
    "### Note: to avoid long processing I stored the instance of this notebook using dill command."
   ]
  },
  {
   "cell_type": "code",
   "execution_count": null,
   "id": "870e21f1",
   "metadata": {},
   "outputs": [],
   "source": [
    "#To avoid long processing of the entire data again, I am storing it in another varriable.\n",
    "\n",
    "# import csv\n",
    "# a_file = open(\"data.csv\", \"w\")\n",
    "# # a_dict = {\"a\": 1, \"b\": 2}\n",
    "\n",
    "# writer = csv.writer(a_file)\n",
    "# for key, value in data2.items():\n",
    "#     writer.writerow([key, value])\n",
    "\n",
    "# a_file.close()"
   ]
  },
  {
   "cell_type": "markdown",
   "id": "972ec35b",
   "metadata": {},
   "source": [
    "### (vi) Stop Words Removal"
   ]
  },
  {
   "cell_type": "code",
   "execution_count": null,
   "id": "99232778",
   "metadata": {},
   "outputs": [],
   "source": [
    "stopwords = nltk.corpus.stopwords.words('english')\n",
    "\n",
    "# data_ws = [word for word in data2['text'][0] if not word in stopwords1]\n",
    "# data_ws\n",
    "\n",
    "for i in range(0,len(data['text'])):\n",
    "    data['text'][i]=[word for word in data['text'][i] if not word in stopwords]\n",
    "    data['headline'][i]=[word for word in data['headline'][i] if not word in stopwords]\n",
    "\n",
    "\n",
    "data['text']"
   ]
  },
  {
   "cell_type": "markdown",
   "id": "7aeb4313",
   "metadata": {},
   "source": [
    "## 5. Creating an Inverted Index for our given doccuments"
   ]
  },
  {
   "cell_type": "markdown",
   "id": "20b8f609",
   "metadata": {},
   "source": [
    "### Combining headline, DocID and Text in one dictionary"
   ]
  },
  {
   "cell_type": "code",
   "execution_count": null,
   "id": "3d94cc86",
   "metadata": {
    "scrolled": true
   },
   "outputs": [],
   "source": [
    "#Creating a dictionary {'DoccumentID':['Headlines','Text']}\n",
    "\n",
    "data3 ={key: value for key, *value in zip(data['id'], data['headline'], data['text'])}\n",
    "data3"
   ]
  },
  {
   "cell_type": "code",
   "execution_count": null,
   "id": "7a48512e",
   "metadata": {},
   "outputs": [],
   "source": [
    "data['headline'][0]"
   ]
  },
  {
   "cell_type": "code",
   "execution_count": null,
   "id": "9894f806",
   "metadata": {},
   "outputs": [],
   "source": [
    "for i in data3.keys():\n",
    "    data3[i]=list(chain.from_iterable(data3[i]))"
   ]
  },
  {
   "cell_type": "code",
   "execution_count": null,
   "id": "499b7d1c",
   "metadata": {},
   "outputs": [],
   "source": [
    "data3"
   ]
  },
  {
   "cell_type": "code",
   "execution_count": null,
   "id": "f845f76f",
   "metadata": {},
   "outputs": [],
   "source": [
    "#Creating a list of vocabulary or the total words in the given doccument data.\n",
    "\n",
    "vocab = [item for item in data3.values()]\n",
    "vocab = list(chain.from_iterable(vocab))"
   ]
  },
  {
   "cell_type": "code",
   "execution_count": null,
   "id": "a66e540c",
   "metadata": {},
   "outputs": [],
   "source": [
    "len(vocab)"
   ]
  },
  {
   "cell_type": "code",
   "execution_count": null,
   "id": "ec185cda",
   "metadata": {},
   "outputs": [],
   "source": [
    "#The total vocabulary is the set of unique words in the given doccuments. \n",
    "\n",
    "total_vocab = list(set(vocab))\n",
    "len(total_vocab)"
   ]
  },
  {
   "cell_type": "code",
   "execution_count": null,
   "id": "865942d1",
   "metadata": {},
   "outputs": [],
   "source": [
    "inv_index = {} #dictionary: key =word/term, value: [docid, termfrequency]\n",
    "for x in total_vocab:\n",
    "    for y, z in data3.items():\n",
    "        if x in z:\n",
    "            wordfreq = z.count(x)\n",
    "            inv_index.setdefault(x, []).append((y, wordfreq)) "
   ]
  },
  {
   "cell_type": "code",
   "execution_count": null,
   "id": "900f2752",
   "metadata": {},
   "outputs": [],
   "source": [
    "len(inv_index)"
   ]
  },
  {
   "cell_type": "code",
   "execution_count": null,
   "id": "848fe0cc",
   "metadata": {},
   "outputs": [],
   "source": [
    "#An example of inverted index for the word regardless.\n",
    "\n",
    "inv_index['regardless'][:10]"
   ]
  },
  {
   "cell_type": "code",
   "execution_count": null,
   "id": "e19bfea6",
   "metadata": {},
   "outputs": [],
   "source": [
    "inv_index"
   ]
  },
  {
   "cell_type": "code",
   "execution_count": null,
   "id": "f5814465",
   "metadata": {},
   "outputs": [],
   "source": [
    "#To avoid long processing of the entire inverted index  again, I am storing it in another varriable.\n",
    "\n",
    "import csv\n",
    "a_file = open(\"inverted_index.csv\", \"w\")\n",
    "# a_dict = {\"a\": 1, \"b\": 2}\n",
    "\n",
    "writer = csv.writer(a_file)\n",
    "for key, value in inv_index.items():\n",
    "    writer.writerow([key, value])\n",
    "\n",
    "a_file.close()"
   ]
  },
  {
   "cell_type": "code",
   "execution_count": null,
   "id": "c8f76943",
   "metadata": {},
   "outputs": [],
   "source": [
    "''' To avoid the loss of each of these varriables I am storing them with the help of %Store method \n",
    "so that I can access them again.'''\n",
    "\n",
    "# %store inv_index \n",
    "# %store vocab\n",
    "# %store total_vocab\n",
    "# %store data3\n",
    "\n",
    "#%store -r inv_index \n",
    "#%store -r vocab\n",
    "#%store -r total_vocab\n",
    "#%store -r data3"
   ]
  },
  {
   "cell_type": "markdown",
   "id": "cd9c6f78",
   "metadata": {},
   "source": [
    "## 6. Querry Preprocessing\n",
    "\n",
    "All the previous methods used in pre-processing of the documents have been used the same for each of the queries."
   ]
  },
  {
   "cell_type": "code",
   "execution_count": null,
   "id": "ced2687b",
   "metadata": {},
   "outputs": [],
   "source": [
    "def querry_processing(querry_text):\n",
    "    \n",
    "    #Removing None_types from the querries.\n",
    "    querry_text=none_type_remove(querry_text)\n",
    "    \n",
    "    #Changing the case of the querry_text\n",
    "    querry_text=querry_text.lower()\n",
    "    \n",
    "    #Expanding english contractions\n",
    "    querry_text = expandContractions(querry_text)\n",
    "    \n",
    "    #Removing Punctuations\n",
    "    querry_text = remove_punct(querry_text)\n",
    "    \n",
    "    #Lemmatisation, pos-tagging and tokenisation\n",
    "    querry_text = lemmatizer(querry_text)\n",
    "    \n",
    "    #Stop_words removal\n",
    "    #querry_text = [word for word in querry_text if not word in stopwords]\n",
    "\n",
    "    return querry_text\n",
    "\n",
    "\n",
    "\n",
    "for i in range(0,len(q_data['q_title'])):\n",
    "    q_data['q_title'][i]=querry_processing(q_data['q_title'][i])\n",
    "    q_data['q_desc'][i]=querry_processing(q_data['q_desc'][i])\n",
    "    q_data['q_narr'][i]=querry_processing(q_data['q_narr'][i])    \n",
    "  "
   ]
  },
  {
   "cell_type": "code",
   "execution_count": null,
   "id": "fc36f96f",
   "metadata": {},
   "outputs": [],
   "source": [
    "#Stop words removal from querry\n",
    "\n",
    "stopwords = nltk.corpus.stopwords.words('english')\n",
    "\n",
    "for i in range(0,len(q_data['q_title'])):\n",
    "    q_data['q_title'][i]=[word for word in q_data['q_title'][i] if not word in stopwords]\n",
    "    q_data['q_desc'][i]=[word for word in q_data['q_desc'][i] if not word in stopwords]\n",
    "    q_data['q_narr'][i]=[word for word in q_data['q_narr'][i] if not word in stopwords]\n"
   ]
  },
  {
   "cell_type": "code",
   "execution_count": null,
   "id": "4cf3864f",
   "metadata": {},
   "outputs": [],
   "source": [
    "len(q_data['q_narr'])"
   ]
  },
  {
   "cell_type": "code",
   "execution_count": null,
   "id": "0407691b",
   "metadata": {},
   "outputs": [],
   "source": [
    "q_data['q_title']"
   ]
  },
  {
   "cell_type": "code",
   "execution_count": null,
   "id": "6179836a",
   "metadata": {},
   "outputs": [],
   "source": [
    "#Creating a querry dictionary {key=q_id: value=[q_title,q_desc,q_narr]}\n",
    "\n",
    "q_data1 ={key: value for key, *value in zip(q_data['q_id'], q_data['q_title'])}\n",
    "for i in q_data1.keys():\n",
    "    q_data1[i]=list(chain.from_iterable(q_data1[i]))"
   ]
  },
  {
   "cell_type": "code",
   "execution_count": null,
   "id": "ea70a867",
   "metadata": {},
   "outputs": [],
   "source": [
    "q_data['q_title'][0]"
   ]
  },
  {
   "cell_type": "code",
   "execution_count": null,
   "id": "842040e3",
   "metadata": {},
   "outputs": [],
   "source": [
    "# %store q_data"
   ]
  },
  {
   "cell_type": "code",
   "execution_count": null,
   "id": "9d295bbf",
   "metadata": {},
   "outputs": [],
   "source": [
    "#Storing our varriable so that we can use them again.\n",
    "\n",
    "# %store -r inv_index \n",
    "#%store -r vocab\n",
    "# %store -r total_vocab\n",
    "# %store -r data3"
   ]
  },
  {
   "cell_type": "code",
   "execution_count": null,
   "id": "fac68c6c",
   "metadata": {},
   "outputs": [],
   "source": [
    "#store -r q_data"
   ]
  },
  {
   "cell_type": "code",
   "execution_count": null,
   "id": "7cd8b223",
   "metadata": {},
   "outputs": [],
   "source": [
    "q_data['q_title'][0][0]"
   ]
  },
  {
   "cell_type": "code",
   "execution_count": null,
   "id": "172870bd",
   "metadata": {},
   "outputs": [],
   "source": [
    "total_freq={}\n",
    "for i in vocab:\n",
    "    sum1=0\n",
    "    for j in range(0,len(inv_index[i])):\n",
    "        sum1= sum1 + inv_index[i][j][1]\n",
    "    total_freq.setdefault(i,sum1)\n",
    "total_freq"
   ]
  },
  {
   "cell_type": "code",
   "execution_count": null,
   "id": "4ea4d2d6",
   "metadata": {},
   "outputs": [],
   "source": [
    "#%store -r total_freq"
   ]
  },
  {
   "cell_type": "code",
   "execution_count": null,
   "id": "c8ddea96",
   "metadata": {},
   "outputs": [],
   "source": [
    "total_freq['croon']"
   ]
  },
  {
   "cell_type": "markdown",
   "id": "f3603717",
   "metadata": {},
   "source": [
    "## Ranking and Evaluation"
   ]
  },
  {
   "cell_type": "markdown",
   "id": "6f6b2dbb",
   "metadata": {},
   "source": [
    "## 1. VSM"
   ]
  },
  {
   "attachments": {
    "cosinesimiformulae.jpg": {
     "image/jpeg": "[encoded data removed]"
    }
   },
   "cell_type": "markdown",
   "id": "1749eec6",
   "metadata": {},
   "source": [
    "## Traditional Method\n",
    "\n",
    "We can use the following formulae to find the cosine similarity, lets imagine document and query being the vectors of the terms of the voncabulary of the corpus. Hence, the cosine similarity can be detrmined by:\n",
    "\n",
    "![cosinesimiformulae.jpg](attachment:cosinesimiformulae.jpg)"
   ]
  },
  {
   "cell_type": "markdown",
   "id": "56c6e89a",
   "metadata": {},
   "source": [
    "The further steps explain how the above formulae is computed using the  inverse index dictionary named  \"inv_index\" created. We break the formulae into two parts the numerator and denominator. The denominator further can be broken down into two parts the document normalisation factor the firts square root term and the query normalisation factor the second term."
   ]
  },
  {
   "cell_type": "code",
   "execution_count": null,
   "id": "3c4badc8",
   "metadata": {},
   "outputs": [],
   "source": [
    "# Function to extract unique terms from a document\n",
    "\n",
    "def unique(list1): \n",
    "    # initialize a null list\n",
    "    unique_list = []     \n",
    "    # traverse for all elements\n",
    "    for x in list1:\n",
    "        # check if exists in unique_list or not\n",
    "        if x not in unique_list:\n",
    "            unique_list.append(x)\n",
    "    return unique_list"
   ]
  },
  {
   "cell_type": "code",
   "execution_count": null,
   "id": "d88db188",
   "metadata": {},
   "outputs": [],
   "source": [
    "#Finding the magnitude of document or document normalisation factor\n",
    "\n",
    "denom = {}\n",
    "t_d = []\n",
    "for did in data3:\n",
    "    denom[did] = 0\n",
    "    for term in unique(data3[did]):\n",
    "        if term not in t_d:\n",
    "            t_d.append(term)\n",
    "            denom[did] += (data3[did].count(term))**2\n",
    "        t_d = []\n",
    "        \n",
    "denom1 = {}\n",
    "for i in denom.keys():\n",
    "    denom1[i]=math.sqrt(denom[i])"
   ]
  },
  {
   "cell_type": "code",
   "execution_count": null,
   "id": "ad40a915",
   "metadata": {},
   "outputs": [],
   "source": [
    "denom1"
   ]
  },
  {
   "cell_type": "code",
   "execution_count": null,
   "id": "c1d59d12",
   "metadata": {},
   "outputs": [],
   "source": [
    "#Finding the magnitude of query or query normalisation factor\n",
    "\n",
    "\n",
    "denom2 = {}\n",
    "t_d = []\n",
    "for qid in q_data1:\n",
    "    denom2[qid] = 0\n",
    "    for term in q_data1[qid]:\n",
    "        if term not in t_d:\n",
    "            t_d.append(term)\n",
    "            denom2[qid] += (q_data1[qid].count(term))**2\n",
    "        t_d = []\n",
    "        \n",
    "denom2_q = {}\n",
    "for i in denom2:\n",
    "    denom2_q[i]=math.sqrt(denom2[i])"
   ]
  },
  {
   "cell_type": "code",
   "execution_count": null,
   "id": "e1ebf1de",
   "metadata": {},
   "outputs": [],
   "source": [
    "denom2_q"
   ]
  },
  {
   "cell_type": "code",
   "execution_count": null,
   "id": "e39cb778",
   "metadata": {},
   "outputs": [],
   "source": [
    "def denominator(qid):\n",
    "    denomina = {}\n",
    "    for did in denom1:\n",
    "        denomina[did]= denom1[did]*denom2_q[qid]\n",
    "    return denomina\n",
    "\n",
    "denomina_final = {} \n",
    "for qid in q_data1:\n",
    "    denomina_final[qid] = denominator(qid)"
   ]
  },
  {
   "cell_type": "code",
   "execution_count": null,
   "id": "e910abfe",
   "metadata": {},
   "outputs": [],
   "source": [
    "denomina_final"
   ]
  },
  {
   "cell_type": "code",
   "execution_count": null,
   "id": "d1e4616d",
   "metadata": {},
   "outputs": [],
   "source": [
    "#Storing the denominator dictionaries to avoid extra computation.\n",
    "\n",
    "# %store q_data1\n",
    "# %store denom2_q\n",
    "# %store denom1\n",
    "\n",
    "# %store -r q_data1\n",
    "# %store -r denom2_q\n",
    "# %store -r denom1"
   ]
  },
  {
   "cell_type": "code",
   "execution_count": null,
   "id": "1101cbe7",
   "metadata": {},
   "outputs": [],
   "source": [
    "#Finding the numerator term\n",
    "\n",
    "def vec_num (query):\n",
    "    vecn = {}\n",
    "    for term in query:\n",
    "        if term not in inv_index:\n",
    "            continue\n",
    "        for i in range (0, len(inv_index[term])):\n",
    "            if inv_index[term][i][0] not in vecn:\n",
    "                vecn[inv_index[term][i][0]] = 0\n",
    "            vecn[inv_index[term][i][0]] += inv_index[term][i][1] * query.count(term)\n",
    "    #print(bm)\n",
    "    return vecn\n",
    "\n",
    "vecnu = {}\n",
    "for q_id in q_data1:\n",
    "    vecnu[q_id] = vec_num(q_data1[q_id])"
   ]
  },
  {
   "cell_type": "code",
   "execution_count": null,
   "id": "4cf57113",
   "metadata": {},
   "outputs": [],
   "source": [
    "#Checking the numerator so created.\n",
    "\n",
    "vecnu"
   ]
  },
  {
   "cell_type": "code",
   "execution_count": null,
   "id": "acefad2e",
   "metadata": {},
   "outputs": [],
   "source": [
    "# Cosine Similarity calculation combining the above found numerator and denominator.\n",
    "\n",
    "for qid in vecnu:\n",
    "    for did in vecnu[qid]:\n",
    "        vecnu[qid][did] = vecnu[qid][did] / denomina_final[qid][did]"
   ]
  },
  {
   "cell_type": "code",
   "execution_count": null,
   "id": "f659c689",
   "metadata": {},
   "outputs": [],
   "source": [
    "#Storing the final scores in a separate dictionary named as cosine_simi.\n",
    "\n",
    "cosine_simi = vecnu\n",
    "cosine_simi"
   ]
  },
  {
   "cell_type": "code",
   "execution_count": null,
   "id": "96d8c52d",
   "metadata": {},
   "outputs": [],
   "source": [
    "#Sorting the values of cosine similarity score in descending order.\n",
    "\n",
    "\n",
    "sim_sort = {}\n",
    "for i in cosine_simi.keys():\n",
    "    sim_sort[i]=(sorted(cosine_simi[i].items(), key=lambda x: x[1], reverse = True))\n",
    "\n",
    "sim_sort"
   ]
  },
  {
   "cell_type": "code",
   "execution_count": null,
   "id": "0c09b8f6",
   "metadata": {},
   "outputs": [],
   "source": [
    "#Redirecting the top 10 or 100 relevant documents in a text file for the TREC_eval script.\n",
    "\n",
    "\n",
    "with open('output1VSM_TOP10.txt', 'w') as f:\n",
    "        with redirect_stdout(f): \n",
    "            for i in sim_sort:\n",
    "                count =0\n",
    "                for j in range(0,len(sim_sort[i])):\n",
    "                    if(count>=10):\n",
    "                        break\n",
    "                    print(i,'1',sim_sort[i][j][0],count,sim_sort[i][j][1],'run1')\n",
    "                    count+=1\n",
    "#                 ans = max(similarity, key=lambda x: similarity[x])\n",
    "#                 print(ans, \"rank is\", i+1)"
   ]
  },
  {
   "attachments": {
    "cosinesimiformulaetf-idfway.jpg": {
     "image/jpeg": "[encoded data removed]"
    }
   },
   "cell_type": "markdown",
   "id": "54968e64",
   "metadata": {},
   "source": [
    "##  TF-IDF \n",
    "We can use the following formulae to find the cosine similarity, lets imagine document as a vector of the inverse index each term in the voncabulary of the corpus and query as a vector representaion of the frequency of its term. Hence, the cosine similarity can be detrmined by:\n",
    "\n",
    "![cosinesimiformulaetf-idfway.jpg](attachment:cosinesimiformulaetf-idfway.jpg)\n"
   ]
  },
  {
   "cell_type": "markdown",
   "id": "658bc23a",
   "metadata": {},
   "source": [
    "The further steps explain how the above formulae is computed using the tf_idf dictionary named \"tf_idf\" created. We break the formulae into two parts the numerator and denominator. The denominator further can be broken down into two parts the document normalisation factor the firts square root term and the query normalisation factor the second term."
   ]
  },
  {
   "cell_type": "code",
   "execution_count": null,
   "id": "bb403ad5",
   "metadata": {},
   "outputs": [],
   "source": [
    "#Inverse Document frequency of each term in a document.\n",
    "\n",
    "idf = {}\n",
    "length=len(data3)\n",
    "for word in inv_index.keys():\n",
    "    idf[word]=np.log2(length/len(inv_index[word]))\n",
    "\n"
   ]
  },
  {
   "cell_type": "code",
   "execution_count": null,
   "id": "191d2b60",
   "metadata": {},
   "outputs": [],
   "source": [
    "idf"
   ]
  },
  {
   "cell_type": "code",
   "execution_count": null,
   "id": "e3a312eb",
   "metadata": {},
   "outputs": [],
   "source": [
    "idf['regardless']"
   ]
  },
  {
   "cell_type": "code",
   "execution_count": null,
   "id": "8ff73ba8",
   "metadata": {},
   "outputs": [],
   "source": [
    "#Creating the tf_idf matrix for each of the term. \n",
    "\n",
    "tf_idf = {}\n",
    "for word in inv_index.keys():\n",
    "    for i in range (0, len(inv_index[word])):\n",
    "        #tf_idf[word] = idf[word] * inv_index[word][i][1]\n",
    "        tf_idf.setdefault(word,[]).append((inv_index[word][i][0],idf[word] * inv_index[word][i][1]))"
   ]
  },
  {
   "cell_type": "code",
   "execution_count": null,
   "id": "6f7ace98",
   "metadata": {},
   "outputs": [],
   "source": [
    "tf_idf"
   ]
  },
  {
   "cell_type": "code",
   "execution_count": null,
   "id": "2f22b590",
   "metadata": {},
   "outputs": [],
   "source": [
    "# %store tf_idf\n",
    "# %store idf\n",
    "\n",
    "# %store -r  tf_idf\n",
    "# %store -r idf"
   ]
  },
  {
   "cell_type": "code",
   "execution_count": null,
   "id": "0b4d49c1",
   "metadata": {},
   "outputs": [],
   "source": [
    "#Getting the numerator of the cosine similarity\n",
    "\n",
    "def simi_nu(query):\n",
    "    num_s={}\n",
    "    for term in query:\n",
    "        if term not in tf_idf:\n",
    "            continue\n",
    "        for i in range(0,len(tf_idf[term])):\n",
    "            if tf_idf[term][i][0] not in num_s:\n",
    "                num_s[tf_idf[term][i][0]] = 0\n",
    "            num_s[tf_idf[term][i][0]]+= tf_idf[term][i][1]*query.count(term)    \n",
    "    return num_s           "
   ]
  },
  {
   "cell_type": "code",
   "execution_count": null,
   "id": "93c04acd",
   "metadata": {},
   "outputs": [],
   "source": [
    "vecnu_s = {}\n",
    "for q_id in q_data1:\n",
    "    vecnu_s[q_id] = simi_nu(q_data1[q_id])"
   ]
  },
  {
   "cell_type": "code",
   "execution_count": null,
   "id": "2a17ad3c",
   "metadata": {},
   "outputs": [],
   "source": [
    "#Document Normalisation Factor usinf TF-IDF approach\n",
    "\n",
    "def d1(term):\n",
    "    d1={}\n",
    "    for term in tf_idf:\n",
    "        for i in range(0,tf_idf[term]):\n",
    "            d1[tf_idf[term][i][0]]=tf_idf[term][i][1]**2\n",
    "    return d1\n",
    "\n",
    "\n",
    "d1={}\n",
    "for did in data3:\n",
    "    for term in unique(data3[did]):\n",
    "        #for i in range(0,len(unique(data3[did]))):\n",
    "        if did not in d1:\n",
    "            d1[did]=0\n",
    "        d1[did]+=((data3[did].count(term))*np.log2(len(data3)/((data3[did].count(term)))))**2\n",
    "        #for term in tf_idf:\n",
    "        \n",
    "for i in d1.keys():\n",
    "    d1[i]=math.sqrt(d1[i])"
   ]
  },
  {
   "cell_type": "code",
   "execution_count": null,
   "id": "cc7bb423",
   "metadata": {},
   "outputs": [],
   "source": [
    "d1"
   ]
  },
  {
   "cell_type": "code",
   "execution_count": null,
   "id": "ed02adb0",
   "metadata": {},
   "outputs": [],
   "source": [
    "# Combining both the document normalisation factor and the earlier found query normalisation factor.\n",
    "\n",
    "def denominator1(qid):\n",
    "    denomina = {}\n",
    "    for did in d1:\n",
    "        denomina[did]= d1[did]*denom2_q[qid]\n",
    "    return denomina"
   ]
  },
  {
   "cell_type": "code",
   "execution_count": null,
   "id": "9896196e",
   "metadata": {},
   "outputs": [],
   "source": [
    "denomina_final1 = {} \n",
    "for qid in q_data1:\n",
    "    denomina_final1[qid] = denominator1(qid)"
   ]
  },
  {
   "cell_type": "code",
   "execution_count": null,
   "id": "ac7ae13a",
   "metadata": {},
   "outputs": [],
   "source": [
    "# Cosine Similarity calculation \n",
    "\n",
    "\n",
    "for qid in vecnu_s:\n",
    "    for did in vecnu_s[qid]:\n",
    "        vecnu_s[qid][did] = vecnu_s[qid][did] / denomina_final1[qid][did]"
   ]
  },
  {
   "cell_type": "code",
   "execution_count": null,
   "id": "8efa0ba2",
   "metadata": {},
   "outputs": [],
   "source": [
    "#Storing the cosine similarity in separate dictionary cos1 - for the tfidf approach\n",
    "\n",
    "cos1 = vecnu_s"
   ]
  },
  {
   "cell_type": "code",
   "execution_count": null,
   "id": "d19d66c4",
   "metadata": {},
   "outputs": [],
   "source": [
    "#Sorting each the smilarity scores\n",
    "\n",
    "sim_sort1 = {}\n",
    "for i in cos1.keys():\n",
    "    sim_sort1[i]=(sorted(cos1[i].items(), key=lambda x: x[1], reverse = True))"
   ]
  },
  {
   "cell_type": "code",
   "execution_count": null,
   "id": "dd7770ed",
   "metadata": {},
   "outputs": [],
   "source": [
    "sim_sort1"
   ]
  },
  {
   "cell_type": "code",
   "execution_count": null,
   "id": "b4d943dc",
   "metadata": {},
   "outputs": [],
   "source": [
    "#Redirecting the top 10 or 100 relevant documents in a text file for the TREC_eval script.\n",
    "\n",
    "\n",
    "with open('output_VSM_top10_tfidf.txt', 'w') as f:\n",
    "        with redirect_stdout(f): \n",
    "            for i in sim_sort1:\n",
    "                count =0\n",
    "                for j in range(0,len(sim_sort1[i])):\n",
    "                    if(count>=10):\n",
    "                        break\n",
    "                    print(i,'1',sim_sort1[i][j][0],count,sim_sort1[i][j][1],'run1')\n",
    "                    count+=1\n",
    "#                 ans = max(similarity, key=lambda x: similarity[x])\n",
    "#                 print(ans, \"rank is\", i+1)"
   ]
  },
  {
   "attachments": {
    "BM25score.jpg": {
     "image/jpeg": "[encoded data removed]"
    }
   },
   "cell_type": "markdown",
   "id": "93952adb",
   "metadata": {},
   "source": [
    "## 2. BM25 Model  Implementation\n",
    "\n",
    "The BM25 score can be detrmined by:\n",
    "\n",
    "![BM25score.jpg](attachment:BM25score.jpg)"
   ]
  },
  {
   "cell_type": "code",
   "execution_count": null,
   "id": "dd1010bc",
   "metadata": {},
   "outputs": [],
   "source": [
    "#A separate formulae of idf. It gives us same results hence this can be avoided\n",
    "\n",
    "idf_bm25 = {}\n",
    "length=len(data3)\n",
    "for word in inv_index.keys():\n",
    "    idf_bm25[word]=np.log2(1+((length-len(inv_index[word])+0.5)/len(inv_index[word])+0.5))"
   ]
  },
  {
   "cell_type": "code",
   "execution_count": null,
   "id": "a65b966c",
   "metadata": {},
   "outputs": [],
   "source": [
    "idf_bm25"
   ]
  },
  {
   "cell_type": "code",
   "execution_count": null,
   "id": "efadc180",
   "metadata": {},
   "outputs": [],
   "source": [
    "#Finding the average doccument length (avgdl)\n",
    "\n",
    "sum1=0\n",
    "for doc in data3:\n",
    "    #for i in range(0,len(data3)):\n",
    "        sum1 += len(data3[doc])\n",
    "\n",
    "avgdl = sum1 / len(data3)"
   ]
  },
  {
   "cell_type": "code",
   "execution_count": null,
   "id": "76d05054",
   "metadata": {},
   "outputs": [],
   "source": [
    "avgdl"
   ]
  },
  {
   "cell_type": "code",
   "execution_count": null,
   "id": "1e5937c8",
   "metadata": {},
   "outputs": [],
   "source": [
    "def bm25score(query):\n",
    "    mul =0 \n",
    "    bm25_score ={}\n",
    "\n",
    "    k1=1.5 \n",
    "    b=0.75\n",
    "    #for index,did in enumerate()\n",
    "    for term in query:\n",
    "        if term not in inv_index:\n",
    "            continue\n",
    "        for i in range(0,len(inv_index[term])):\n",
    "            if inv_index[term][i][0] not in bm25_score:\n",
    "                bm25_score[inv_index[term][i][0]]=0\n",
    "#             upper = (inv_index[term][i][1])*(k1+1)*(idf[term])\n",
    "#             lower = (inv_index[term][i][1])*(k1+1)*(idf[term])/(inv_index[term][i][1]) + (k1 *((1- b) + (b*((len(data3[inv_index[term][i][0]]))/avgdl))))\n",
    "            bm25_score[inv_index[term][i][0]] += (inv_index[term][i][1])*(k1+1)*(idf_bm25[term])/((inv_index[term][i][1]) + (k1 *((1- b) + (b*(len(data3[inv_index[term][i][0]])/avgdl)))))\n",
    "#             bm25_score.setdefault(inv_index[term][i][0],mul)\n",
    "            \n",
    "            \n",
    "    return bm25_score"
   ]
  },
  {
   "cell_type": "code",
   "execution_count": null,
   "id": "44a677c9",
   "metadata": {},
   "outputs": [],
   "source": [
    "bm25 = {}\n",
    "for q_id in q_data1:\n",
    "    bm25[q_id] = bm25score(q_data1[q_id])"
   ]
  },
  {
   "cell_type": "code",
   "execution_count": null,
   "id": "e449bfd7",
   "metadata": {},
   "outputs": [],
   "source": [
    "bm25['10.2452/141-AH']"
   ]
  },
  {
   "cell_type": "code",
   "execution_count": null,
   "id": "7b1505c2",
   "metadata": {},
   "outputs": [],
   "source": [
    "#Sorting the values of bm25 score in descending order.\n",
    "\n",
    "bm25_sort = {}\n",
    "for i in bm25.keys():\n",
    "    bm25_sort[i]=(sorted(bm25[i].items(), key=lambda x: x[1], reverse = True))"
   ]
  },
  {
   "cell_type": "code",
   "execution_count": null,
   "id": "04b11bf2",
   "metadata": {},
   "outputs": [],
   "source": [
    "bm25_sort"
   ]
  },
  {
   "cell_type": "code",
   "execution_count": null,
   "id": "af3aad52",
   "metadata": {},
   "outputs": [],
   "source": [
    "#Creating an output file for TREC_EVAL.\n",
    "\n",
    "\n",
    "with open('output_bm25_TOP100.txt', 'w') as f:\n",
    "        with redirect_stdout(f): \n",
    "            for i in bm25_sort:\n",
    "                count =0\n",
    "                for j in range(0,len(bm25_sort[i])):\n",
    "                    if(count>=100):\n",
    "                        break\n",
    "                    print(i,'1',bm25_sort[i][j][0],count,bm25_sort[i][j][1],'run1')\n",
    "                    count+=1\n",
    "#                 ans = max(similarity, key=lambda x: similarity[x])\n",
    "#                 print(ans, \"rank is\", i+1)"
   ]
  },
  {
   "cell_type": "code",
   "execution_count": null,
   "id": "ae90b507",
   "metadata": {},
   "outputs": [],
   "source": [
    "# %store bm25\n",
    "# %store bm25_sort\n",
    "\n",
    "# %store -r bm25\n",
    "# %store -r bm25_sort"
   ]
  },
  {
   "cell_type": "markdown",
   "id": "53f752ed",
   "metadata": {},
   "source": [
    "## 3. Language Model (Multinomial Probabilistic Model)"
   ]
  },
  {
   "cell_type": "code",
   "execution_count": null,
   "id": "7c9d2a71",
   "metadata": {},
   "outputs": [],
   "source": [
    "#Finding the probability of each query term in each doccument.\n",
    "\n",
    "def prob(querry):\n",
    "    lambda1 = 0.5\n",
    "    prob_term = {}\n",
    "    for term in querry:\n",
    "        if term not in inv_index.keys():\n",
    "            continue\n",
    "        for i in range(0,len(inv_index[term])):\n",
    "            if inv_index[term][i][0] not in prob_term:\n",
    "                prob_term[inv_index[term][i][0]]= 1 \n",
    "            if term not in data3[inv_index[term][i][0]]:\n",
    "                prob_term[inv_index[term][i][0]] *= total_freq[term]/len(vocab)\n",
    "            prob_term[inv_index[term][i][0]] *= (inv_index[term][i][1]/len(data3[inv_index[term][i][0]])) \n",
    "        \n",
    "    return prob_term\n",
    "            \n",
    "            \n",
    "            "
   ]
  },
  {
   "cell_type": "code",
   "execution_count": null,
   "id": "0ff9fa9b",
   "metadata": {},
   "outputs": [],
   "source": [
    "prob_term={}\n",
    "for qid in q_data1.keys():\n",
    "    prob_term.setdefault(qid, prob(q_data1[qid])) "
   ]
  },
  {
   "cell_type": "code",
   "execution_count": null,
   "id": "309a51c9",
   "metadata": {},
   "outputs": [],
   "source": [
    "len(prob_term)"
   ]
  },
  {
   "cell_type": "code",
   "execution_count": null,
   "id": "e2a0566c",
   "metadata": {},
   "outputs": [],
   "source": [
    "#Sorting the values of probablistic model score in descending order.\n",
    "\n",
    "\n",
    "prob_sort={}\n",
    "for i in prob_term.keys():\n",
    "    prob_sort[i]=(sorted(prob_term[i].items(), key=lambda x: x[1], reverse = True))"
   ]
  },
  {
   "cell_type": "code",
   "execution_count": null,
   "id": "0cc1b892",
   "metadata": {},
   "outputs": [],
   "source": [
    "prob_sort"
   ]
  },
  {
   "cell_type": "code",
   "execution_count": null,
   "id": "7e9c9e7f",
   "metadata": {},
   "outputs": [],
   "source": [
    "#Creating an output file for TREC_EVAL, top 10 or 100 documents.\n",
    "\n",
    "\n",
    "with open('output_lm_top10.txt', 'w') as f:\n",
    "        with redirect_stdout(f): \n",
    "            for i in prob_sort:\n",
    "                count =0\n",
    "                for j in range(0,len(prob_sort[i])):\n",
    "                    if(count>=10):\n",
    "                        break\n",
    "                    print(i,'1',prob_sort[i][j][0],count,prob_sort[i][j][1],'run1')\n",
    "                    count+=1\n",
    "#                 ans = max(similarity, key=lambda x: similarity[x])\n",
    "#                 print(ans, \"rank is\", i+1)"
   ]
  },
  {
   "cell_type": "markdown",
   "id": "66eeff02",
   "metadata": {},
   "source": [
    "The evaluation of each of the models is done using the TREC_EVAL."
   ]
  }
 ],
 "metadata": {
  "kernelspec": {
   "display_name": "Python 3 (ipykernel)",
   "language": "python",
   "name": "python3"
  },
  "language_info": {
   "codemirror_mode": {
    "name": "ipython",
    "version": 3
   },
   "file_extension": ".py",
   "mimetype": "text/x-python",
   "name": "python",
   "nbconvert_exporter": "python",
   "pygments_lexer": "ipython3",
   "version": "3.10.0"
  }
 },
 "nbformat": 4,
 "nbformat_minor": 5
}
